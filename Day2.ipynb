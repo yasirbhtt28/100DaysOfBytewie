{
  "nbformat": 4,
  "nbformat_minor": 0,
  "metadata": {
    "colab": {
      "provenance": []
    },
    "kernelspec": {
      "name": "python3",
      "display_name": "Python 3"
    },
    "language_info": {
      "name": "python"
    }
  },
  "cells": [
    {
      "cell_type": "markdown",
      "source": [
        "Palindrome Checker (Word)"
      ],
      "metadata": {
        "id": "nmEoK-r4S6dF"
      }
    },
    {
      "cell_type": "code",
      "execution_count": 3,
      "metadata": {
        "colab": {
          "base_uri": "https://localhost:8080/"
        },
        "id": "W_hTc_ipSx-E",
        "outputId": "ba1c7be8-8c2e-4e41-aea3-2532d9b700d9"
      },
      "outputs": [
        {
          "output_type": "stream",
          "name": "stdout",
          "text": [
            "Enter a string: Racecar\n",
            "Racecar is not a palindrome\n"
          ]
        }
      ],
      "source": [
        "user_string = input(\"Enter a string: \")\n",
        "reversed_string = user_string[::-1]\n",
        "if user_string == reversed_string:\n",
        "    print(f\"{user_string} is a palindrome\")\n",
        "else:\n",
        "    print(f\"{user_string} is not a palindrome\")"
      ]
    },
    {
      "cell_type": "code",
      "source": [
        "user_string = input(\"Enter a string: \")\n",
        "normalized_string = user_string.lower()\n",
        "reversed_string = normalized_string[::-1]\n",
        "if normalized_string == reversed_string:\n",
        "    print(f\"{user_string} is a palindrome\")\n",
        "else:\n",
        "    print(f\"{user_string} is not a palindrome\")\n"
      ],
      "metadata": {
        "colab": {
          "base_uri": "https://localhost:8080/"
        },
        "id": "XFUdnF4BTsnb",
        "outputId": "14706b20-02b3-4768-b214-5fda5dd287a9"
      },
      "execution_count": 5,
      "outputs": [
        {
          "output_type": "stream",
          "name": "stdout",
          "text": [
            "Enter a string: racecar\n",
            "racecar is a palindrome\n"
          ]
        }
      ]
    },
    {
      "cell_type": "markdown",
      "source": [
        "FizzBuzz"
      ],
      "metadata": {
        "id": "Lsrs1_ggT9P0"
      }
    },
    {
      "cell_type": "code",
      "source": [
        "for i in range(1, 101):\n",
        "    if i % 3 == 0 and i % 5 == 0:\n",
        "        print(\"FizzBuzz\")\n",
        "    elif i % 3 == 0:\n",
        "        print(\"Fizz\")\n",
        "    elif i % 5 == 0:\n",
        "        print(\"Buzz\")\n",
        "    else:\n",
        "        print(i)\n"
      ],
      "metadata": {
        "colab": {
          "base_uri": "https://localhost:8080/"
        },
        "id": "A2jHT9jIUA5N",
        "outputId": "f4d815d2-5511-43c4-c48d-947aeef3b0f0"
      },
      "execution_count": 6,
      "outputs": [
        {
          "output_type": "stream",
          "name": "stdout",
          "text": [
            "1\n",
            "2\n",
            "Fizz\n",
            "4\n",
            "Buzz\n",
            "Fizz\n",
            "7\n",
            "8\n",
            "Fizz\n",
            "Buzz\n",
            "11\n",
            "Fizz\n",
            "13\n",
            "14\n",
            "FizzBuzz\n",
            "16\n",
            "17\n",
            "Fizz\n",
            "19\n",
            "Buzz\n",
            "Fizz\n",
            "22\n",
            "23\n",
            "Fizz\n",
            "Buzz\n",
            "26\n",
            "Fizz\n",
            "28\n",
            "29\n",
            "FizzBuzz\n",
            "31\n",
            "32\n",
            "Fizz\n",
            "34\n",
            "Buzz\n",
            "Fizz\n",
            "37\n",
            "38\n",
            "Fizz\n",
            "Buzz\n",
            "41\n",
            "Fizz\n",
            "43\n",
            "44\n",
            "FizzBuzz\n",
            "46\n",
            "47\n",
            "Fizz\n",
            "49\n",
            "Buzz\n",
            "Fizz\n",
            "52\n",
            "53\n",
            "Fizz\n",
            "Buzz\n",
            "56\n",
            "Fizz\n",
            "58\n",
            "59\n",
            "FizzBuzz\n",
            "61\n",
            "62\n",
            "Fizz\n",
            "64\n",
            "Buzz\n",
            "Fizz\n",
            "67\n",
            "68\n",
            "Fizz\n",
            "Buzz\n",
            "71\n",
            "Fizz\n",
            "73\n",
            "74\n",
            "FizzBuzz\n",
            "76\n",
            "77\n",
            "Fizz\n",
            "79\n",
            "Buzz\n",
            "Fizz\n",
            "82\n",
            "83\n",
            "Fizz\n",
            "Buzz\n",
            "86\n",
            "Fizz\n",
            "88\n",
            "89\n",
            "FizzBuzz\n",
            "91\n",
            "92\n",
            "Fizz\n",
            "94\n",
            "Buzz\n",
            "Fizz\n",
            "97\n",
            "98\n",
            "Fizz\n",
            "Buzz\n"
          ]
        }
      ]
    },
    {
      "cell_type": "markdown",
      "source": [
        "Nth Fibonacci Number"
      ],
      "metadata": {
        "id": "1HwRvSXzUTY0"
      }
    },
    {
      "cell_type": "code",
      "source": [
        "n_terms = int(input(\"How many terms? \"))\n",
        "n1 = 1\n",
        "n2 = 1\n",
        "count = 0\n",
        "if n_terms <= 0:\n",
        "    print(\"Please enter a positive integer\")\n",
        "elif n_terms == 1:\n",
        "    print(\"Fibonacci sequence:\")\n",
        "    print(n1)\n",
        "else:\n",
        "    print(\"Fibonacci sequence:\")\n",
        "    while count < n_terms:\n",
        "        print(n1, end=' ')\n",
        "        nth = n1 + n2\n",
        "        n1 = n2\n",
        "        n2 = nth\n",
        "        count += 1"
      ],
      "metadata": {
        "colab": {
          "base_uri": "https://localhost:8080/"
        },
        "id": "9jkxCPB1UYLz",
        "outputId": "fbafae53-411c-4e99-ebb1-6279f683123b"
      },
      "execution_count": 11,
      "outputs": [
        {
          "output_type": "stream",
          "name": "stdout",
          "text": [
            "How many terms? 10\n",
            "Fibonacci sequence:\n",
            "1 1 2 3 5 8 13 21 34 55 "
          ]
        }
      ]
    },
    {
      "cell_type": "markdown",
      "source": [
        "Prime Number Checker"
      ],
      "metadata": {
        "id": "w2HdR-2dWSbT"
      }
    },
    {
      "cell_type": "code",
      "source": [
        "number = int(input(\"Enter a number: \"))\n",
        "\n",
        "if number <= 1:\n",
        "    is_prime = False\n",
        "else:\n",
        "    is_prime = True\n",
        "    for i in range(2, number):\n",
        "        if number % i == 0:\n",
        "            is_prime = False\n",
        "            break\n",
        "if is_prime:\n",
        "    print(f\"{number} is a prime number.\")\n",
        "else:\n",
        "    print(f\"{number} is not a prime number.\")\n"
      ],
      "metadata": {
        "colab": {
          "base_uri": "https://localhost:8080/"
        },
        "id": "8OAVoe9eWVJR",
        "outputId": "1a910e84-3b3d-4c4d-a72b-b7f63aec0310"
      },
      "execution_count": 16,
      "outputs": [
        {
          "output_type": "stream",
          "name": "stdout",
          "text": [
            "Enter a number: 10\n",
            "10 is not a prime number.\n"
          ]
        }
      ]
    },
    {
      "cell_type": "markdown",
      "source": [
        "Guess the Number Game"
      ],
      "metadata": {
        "id": "zkXh_RmGWx6l"
      }
    },
    {
      "cell_type": "code",
      "source": [
        "import random as rd\n",
        "random_number = rd.randint(1, 100)\n",
        "print(\"Guess the number (between 1 and 100):\")\n",
        "while True:\n",
        "    user_guess = int(input(\"Enter your guess: \"))\n",
        "    if user_guess < random_number:\n",
        "        print(\"Too low. Try again!\")\n",
        "    elif user_guess > random_number:\n",
        "        print(\"Too high. Try again!\")\n",
        "    else:\n",
        "        print(f\"Congratulations! You guessed the correct number: {random_number}\")\n",
        "        break\n"
      ],
      "metadata": {
        "colab": {
          "base_uri": "https://localhost:8080/"
        },
        "id": "wPTmXZk3W5fa",
        "outputId": "cee9affc-5876-4c78-9b3c-1ac84675452a"
      },
      "execution_count": 18,
      "outputs": [
        {
          "output_type": "stream",
          "name": "stdout",
          "text": [
            "Guess the number (between 1 and 100):\n",
            "Enter your guess: 6\n",
            "Too low. Try again!\n",
            "Enter your guess: 9\n",
            "Too low. Try again!\n",
            "Enter your guess: 50\n",
            "Too high. Try again!\n",
            "Enter your guess: 40\n",
            "Too high. Try again!\n",
            "Enter your guess: 30\n",
            "Too high. Try again!\n",
            "Enter your guess: 20\n",
            "Too high. Try again!\n",
            "Enter your guess: 10\n",
            "Too low. Try again!\n",
            "Enter your guess: 12\n",
            "Congratulations! You guessed the correct number: 12\n"
          ]
        }
      ]
    },
    {
      "cell_type": "markdown",
      "source": [
        "List Comprehension"
      ],
      "metadata": {
        "id": "y_kQnBFgXyVE"
      }
    },
    {
      "cell_type": "code",
      "source": [
        "squares = [i**2 for i in range(1, 11)]\n",
        "print(squares)\n"
      ],
      "metadata": {
        "colab": {
          "base_uri": "https://localhost:8080/"
        },
        "id": "bzMhkr7eX1Zc",
        "outputId": "14e46a9b-51ab-498e-a340-c243b617c41c"
      },
      "execution_count": 19,
      "outputs": [
        {
          "output_type": "stream",
          "name": "stdout",
          "text": [
            "[1, 4, 9, 16, 25, 36, 49, 64, 81, 100]\n"
          ]
        }
      ]
    },
    {
      "cell_type": "markdown",
      "source": [
        "Palindrome Sentences"
      ],
      "metadata": {
        "id": "mXzrMhcmYM4U"
      }
    },
    {
      "cell_type": "code",
      "source": [
        "import string\n",
        "def is_palindrome(sentence):\n",
        "    cleaned_sentence = ''.join(char.lower() for char in sentence if char.isalnum())\n",
        "    return cleaned_sentence == cleaned_sentence[::-1]\n",
        "sentence = input(\"Enter a sentence: \")\n",
        "if is_palindrome(sentence):\n",
        "    print(f'\"{sentence}\" is a palindrome.')\n",
        "else:\n",
        "    print(f'\"{sentence}\" is not a palindrome.')\n"
      ],
      "metadata": {
        "colab": {
          "base_uri": "https://localhost:8080/"
        },
        "id": "a-O9SCn3YQ5o",
        "outputId": "b48a98a4-3a26-426e-f0da-6c36c2dc7e9d"
      },
      "execution_count": 21,
      "outputs": [
        {
          "output_type": "stream",
          "name": "stdout",
          "text": [
            "Enter a sentence: A man, a plan, a canal: Panama\n",
            "\"A man, a plan, a canal: Panama\" is a palindrome.\n"
          ]
        }
      ]
    },
    {
      "cell_type": "markdown",
      "source": [
        "Anagram Checker"
      ],
      "metadata": {
        "id": "YuXFyyyEZCWl"
      }
    },
    {
      "cell_type": "code",
      "source": [
        "def are_anagrams(str1, str2):\n",
        "    clean_str1 = ''.join(char.lower() for char in str1 if char.isalnum())\n",
        "    clean_str2 = ''.join(char.lower() for char in str2 if char.isalnum())\n",
        "    return sorted(clean_str1) == sorted(clean_str2)\n",
        "string1 = input(\"Enter the first string: \")\n",
        "string2 = input(\"Enter the second string: \")\n",
        "if are_anagrams(string1, string2):\n",
        "    print(f'{string1} and {string2} are anagrams.')\n",
        "else:\n",
        "    print(f'{string1} and {string2} are not anagrams.')\n"
      ],
      "metadata": {
        "colab": {
          "base_uri": "https://localhost:8080/"
        },
        "id": "LrlE2A2QZHcm",
        "outputId": "4beca970-bc77-4047-bbe2-19be4e40a747"
      },
      "execution_count": 24,
      "outputs": [
        {
          "output_type": "stream",
          "name": "stdout",
          "text": [
            "Enter the first string: car\n",
            "Enter the second string: cat\n",
            "car and cat are not anagrams.\n"
          ]
        }
      ]
    },
    {
      "cell_type": "markdown",
      "source": [
        "Reverse Words in a Sentence"
      ],
      "metadata": {
        "id": "Aju89gqHZ9-q"
      }
    },
    {
      "cell_type": "code",
      "source": [
        "def reverse_words(sentence):\n",
        "    words = sentence.split()\n",
        "    reversed_sentence = ' '.join(words[::-1])\n",
        "    return reversed_sentence\n",
        "input_sentence = input(\"Enter a sentence: \")\n",
        "reversed_sentence = reverse_words(input_sentence)\n",
        "print(\"Reversed sentence:\", reversed_sentence)\n"
      ],
      "metadata": {
        "colab": {
          "base_uri": "https://localhost:8080/"
        },
        "id": "VWZVuFtqaBWs",
        "outputId": "78c460c2-ae88-47c3-b935-fa4dcb9a3d50"
      },
      "execution_count": 25,
      "outputs": [
        {
          "output_type": "stream",
          "name": "stdout",
          "text": [
            "Enter a sentence: The quick brown fox jumps over the lazy dog.\n",
            "Reversed sentence: dog. lazy the over jumps fox brown quick The\n"
          ]
        }
      ]
    },
    {
      "cell_type": "markdown",
      "source": [
        "Temperature Converter"
      ],
      "metadata": {
        "id": "dJVZEZK9aXac"
      }
    },
    {
      "cell_type": "code",
      "source": [
        "def celsius_to_fahrenheit(celsius):\n",
        "    fahrenheit = celsius * 9/5 + 32\n",
        "    return fahrenheit\n",
        "def celsius_to_kelvin(celsius):\n",
        "    kelvin = celsius + 273.15\n",
        "    return kelvin\n",
        "celsius_temp = float(input(\"Enter the temperature in Celsius: \"))\n",
        "fahrenheit_temp = celsius_to_fahrenheit(celsius_temp)\n",
        "kelvin_temp = celsius_to_kelvin(celsius_temp)\n",
        "print(f\"{celsius_temp} degrees Celsius is equal to {fahrenheit_temp} degrees Fahrenheit and {kelvin_temp} degrees Kelvin.\")\n"
      ],
      "metadata": {
        "colab": {
          "base_uri": "https://localhost:8080/"
        },
        "id": "KIf3alIEaZUT",
        "outputId": "bfbd420f-f319-4cf1-a127-4db94e57b334"
      },
      "execution_count": 26,
      "outputs": [
        {
          "output_type": "stream",
          "name": "stdout",
          "text": [
            "Enter the temperature in Celsius: 20\n",
            "20.0 degrees Celsius is equal to 68.0 degrees Fahrenheit and 293.15 degrees Kelvin.\n"
          ]
        }
      ]
    }
  ]
}