{
  "nbformat": 4,
  "nbformat_minor": 0,
  "metadata": {
    "colab": {
      "provenance": []
    },
    "kernelspec": {
      "name": "python3",
      "display_name": "Python 3"
    },
    "language_info": {
      "name": "python"
    }
  },
  "cells": [
    {
      "cell_type": "markdown",
      "source": [
        "QuickSort Algorithm"
      ],
      "metadata": {
        "id": "eHnKS00luGo0"
      }
    },
    {
      "cell_type": "code",
      "source": [
        "def quicksort(arr):\n",
        "    if len(arr) <= 1:\n",
        "        return arr\n",
        "    else:\n",
        "        pivot = arr[len(arr) // 2]\n",
        "        left = [x for x in arr if x < pivot]\n",
        "        middle = [x for x in arr if x == pivot]\n",
        "        right = [x for x in arr if x > pivot]\n",
        "        return quicksort(left) + middle + quicksort(right)\n",
        "input_array = [3, 6, 8, 10, 1, 2, 1]\n",
        "sorted_array = quicksort(input_array)\n",
        "print(sorted_array)\n"
      ],
      "metadata": {
        "colab": {
          "base_uri": "https://localhost:8080/"
        },
        "id": "VbXe10EPu6_s",
        "outputId": "fe8f8ebc-3e66-4e2e-8898-3119d5883355"
      },
      "execution_count": 2,
      "outputs": [
        {
          "output_type": "stream",
          "name": "stdout",
          "text": [
            "[1, 1, 2, 3, 6, 8, 10]\n"
          ]
        }
      ]
    },
    {
      "cell_type": "markdown",
      "source": [
        "Knapsack Problem"
      ],
      "metadata": {
        "id": "k-Vbcgu9vfQZ"
      }
    },
    {
      "cell_type": "code",
      "source": [
        "def knapsack(weights, values, capacity):\n",
        "    n = len(weights)\n",
        "    dp = [[0 for _ in range(capacity + 1)] for _ in range(n + 1)]\n",
        "    for i in range(n + 1):\n",
        "        for w in range(capacity + 1):\n",
        "            if i == 0 or w == 0:\n",
        "                dp[i][w] = 0\n",
        "            elif weights[i-1] <= w:\n",
        "                dp[i][w] = max(values[i-1] + dp[i-1][w - weights[i-1]], dp[i-1][w])\n",
        "            else:\n",
        "                dp[i][w] = dp[i-1][w]\n",
        "    return dp[n][capacity]\n",
        "weights = [1, 3, 4, 5]\n",
        "values = [1, 4, 5, 7]\n",
        "capacity = 7\n",
        "max_value = knapsack(weights, values, capacity)\n",
        "print(max_value)\n"
      ],
      "metadata": {
        "colab": {
          "base_uri": "https://localhost:8080/"
        },
        "id": "57Qf91wKvi9I",
        "outputId": "11477b50-ba37-40d6-9d1c-a92ec01af678"
      },
      "execution_count": 3,
      "outputs": [
        {
          "output_type": "stream",
          "name": "stdout",
          "text": [
            "9\n"
          ]
        }
      ]
    },
    {
      "cell_type": "markdown",
      "source": [
        "Graph Traversal (BFS and DFS)"
      ],
      "metadata": {
        "id": "Fya-emn4xPlV"
      }
    },
    {
      "cell_type": "code",
      "source": [
        "#BFS\n",
        "from collections import deque\n",
        "def bfs(graph, start):\n",
        "    visited = []\n",
        "    queue = deque([start])\n",
        "    while queue:\n",
        "        vertex = queue.popleft()\n",
        "        if vertex not in visited:\n",
        "            visited.append(vertex)\n",
        "            queue.extend([node for node in graph[vertex] if node not in visited])\n",
        "    return visited\n",
        "graph = {0: [1, 2], 1: [2], 2: [0, 3], 3: [3]}\n",
        "start_node = 2\n",
        "print(bfs(graph, start_node))\n"
      ],
      "metadata": {
        "colab": {
          "base_uri": "https://localhost:8080/"
        },
        "id": "s6rETWgtxTsh",
        "outputId": "e9b9b0b8-d05f-420f-ccf3-62234056229b"
      },
      "execution_count": 4,
      "outputs": [
        {
          "output_type": "stream",
          "name": "stdout",
          "text": [
            "[2, 0, 3, 1]\n"
          ]
        }
      ]
    },
    {
      "cell_type": "code",
      "source": [
        "# DFS\n",
        "def dfs(graph, start, visited=None):\n",
        "    if visited is None:\n",
        "        visited = []\n",
        "    visited.append(start)\n",
        "    for neighbor in graph[start]:\n",
        "        if neighbor not in visited:\n",
        "            dfs(graph, neighbor, visited)\n",
        "    return visited\n",
        "print(dfs(graph, start_node))\n"
      ],
      "metadata": {
        "colab": {
          "base_uri": "https://localhost:8080/"
        },
        "id": "fZWQPUE-xwVC",
        "outputId": "0dfd281d-bed4-4a31-b2ff-56d9969b1fc6"
      },
      "execution_count": 5,
      "outputs": [
        {
          "output_type": "stream",
          "name": "stdout",
          "text": [
            "[2, 0, 1, 3]\n"
          ]
        }
      ]
    },
    {
      "cell_type": "markdown",
      "source": [
        "Dijkstra's Algorithm"
      ],
      "metadata": {
        "id": "UAnCusBbyM-c"
      }
    },
    {
      "cell_type": "code",
      "source": [
        "import heapq\n",
        "def dijkstra(graph, start):\n",
        "    distances = {node: float('infinity') for node in graph}\n",
        "    distances[start] = 0\n",
        "    priority_queue = [(0, start)]\n",
        "\n",
        "    while priority_queue:\n",
        "        current_distance, current_node = heapq.heappop(priority_queue)\n",
        "        if current_distance > distances[current_node]:\n",
        "            continue\n",
        "        for neighbor, weight in graph[current_node].items():\n",
        "            distance = current_distance + weight\n",
        "            if distance < distances[neighbor]:\n",
        "                distances[neighbor] = distance\n",
        "                heapq.heappush(priority_queue, (distance, neighbor))\n",
        "    return distances\n",
        "graph = {\n",
        "    'A': {'B': 1, 'C': 4},\n",
        "    'B': {'C': 2, 'D': 5},\n",
        "    'C': {'D': 1},\n",
        "    'D': {}\n",
        "}\n",
        "start_node = 'A'\n",
        "shortest_paths = dijkstra(graph, start_node)\n",
        "print(shortest_paths)\n"
      ],
      "metadata": {
        "colab": {
          "base_uri": "https://localhost:8080/"
        },
        "id": "4jthzXY_yPfc",
        "outputId": "3745dd55-9553-4e29-9f9b-6b4171abd54d"
      },
      "execution_count": 7,
      "outputs": [
        {
          "output_type": "stream",
          "name": "stdout",
          "text": [
            "{'A': 0, 'B': 1, 'C': 3, 'D': 4}\n"
          ]
        }
      ]
    },
    {
      "cell_type": "markdown",
      "source": [
        "Longest Common Subsequence (LCS)"
      ],
      "metadata": {
        "id": "3pQtbSuqytJy"
      }
    },
    {
      "cell_type": "code",
      "source": [
        "def lcs(X, Y):\n",
        "    m = len(X)\n",
        "    n = len(Y)\n",
        "    L = [[0] * (n + 1) for _ in range(m + 1)]\n",
        "\n",
        "    for i in range(m + 1):\n",
        "        for j in range(n + 1):\n",
        "            if i == 0 or j == 0:\n",
        "                L[i][j] = 0\n",
        "            elif X[i - 1] == Y[j - 1]:\n",
        "                L[i][j] = L[i - 1][j - 1] + 1\n",
        "            else:\n",
        "                L[i][j] = max(L[i - 1][j], L[i][j - 1])\n",
        "\n",
        "    index = L[m][n]\n",
        "    lcs = [\"\"] * (index + 1)\n",
        "    lcs[index] = \"\"\n",
        "    i = m\n",
        "    j = n\n",
        "    while i > 0 and j > 0:\n",
        "        if X[i - 1] == Y[j - 1]:\n",
        "            lcs[index - 1] = X[i - 1]\n",
        "            i -= 1\n",
        "            j -= 1\n",
        "            index -= 1\n",
        "        elif L[i - 1][j] > L[i][j - 1]:\n",
        "            i -= 1\n",
        "        else:\n",
        "            j -= 1\n",
        "    return \"\".join(lcs)\n",
        "X = \"AGGTAB\"\n",
        "Y = \"GXTXAYB\"\n",
        "print(lcs(X, Y))\n"
      ],
      "metadata": {
        "colab": {
          "base_uri": "https://localhost:8080/"
        },
        "id": "Kbicil3NyxOK",
        "outputId": "cff96f9a-988a-4c3f-fdfe-a6fac3957a64"
      },
      "execution_count": 8,
      "outputs": [
        {
          "output_type": "stream",
          "name": "stdout",
          "text": [
            "GTAB\n"
          ]
        }
      ]
    }
  ]
}