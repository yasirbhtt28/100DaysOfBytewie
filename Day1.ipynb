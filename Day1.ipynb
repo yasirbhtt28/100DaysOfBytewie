{
  "nbformat": 4,
  "nbformat_minor": 0,
  "metadata": {
    "colab": {
      "provenance": []
    },
    "kernelspec": {
      "name": "python3",
      "display_name": "Python 3"
    },
    "language_info": {
      "name": "python"
    }
  },
  "cells": [
    {
      "cell_type": "markdown",
      "source": [
        "Write a program that takes two numbers from the user and prints their sum."
      ],
      "metadata": {
        "id": "0VcIZrOjGsOv"
      }
    },
    {
      "cell_type": "code",
      "source": [
        "first_number = float(input(\"Enter first number: \"))\n",
        "second_number = float(input(\"Enter second number: \"))\n",
        "sum_result = first_number + second_number\n",
        "print(f\"The sum is: {sum_result}\")\n"
      ],
      "metadata": {
        "colab": {
          "base_uri": "https://localhost:8080/"
        },
        "id": "ylR-kL6IFlko",
        "outputId": "682120e7-2f54-4ea4-d2a7-a4d194207939"
      },
      "execution_count": 8,
      "outputs": [
        {
          "output_type": "stream",
          "name": "stdout",
          "text": [
            "Enter first number: 5\n",
            "Enter second number: 5\n",
            "The sum is: 10.0\n"
          ]
        }
      ]
    },
    {
      "cell_type": "markdown",
      "source": [
        "Write a program to calculate the area of a circle given its radius.\n"
      ],
      "metadata": {
        "id": "rTfINbSQG3d7"
      }
    },
    {
      "cell_type": "code",
      "source": [
        "import math\n",
        "radius = float(input(\"Enter the radius of the circle: \"))\n",
        "area = math.pi * radius ** 2\n",
        "Area = 3.14*radius**2\n",
        "print(f\"The area of the circle is: {area}\")\n",
        "print(f\"The area of the circle is: {Area}\")"
      ],
      "metadata": {
        "colab": {
          "base_uri": "https://localhost:8080/"
        },
        "id": "W8yV-b-cGrBb",
        "outputId": "81aeb634-cbbb-4142-86ac-418d32fa158d"
      },
      "execution_count": 14,
      "outputs": [
        {
          "output_type": "stream",
          "name": "stdout",
          "text": [
            "Enter the radius of the circle: 5\n",
            "The area of the circle is: 78.53981633974483\n",
            "The area of the circle is: 78.5\n"
          ]
        }
      ]
    },
    {
      "cell_type": "markdown",
      "source": [
        "Write a program that checks if a number is even or odd."
      ],
      "metadata": {
        "id": "5iM1y97GIQTH"
      }
    },
    {
      "cell_type": "code",
      "source": [
        "number = int(input(\"Enter a number: \"))\n",
        "if number % 2 == 0:\n",
        "    print(f\"{number} is even\")\n",
        "else:\n",
        "    print(f\"{number} is odd\")\n"
      ],
      "metadata": {
        "colab": {
          "base_uri": "https://localhost:8080/"
        },
        "id": "HvEKeczdISTm",
        "outputId": "47ad4802-f4a5-4b52-8348-2b49bc2b142f"
      },
      "execution_count": 16,
      "outputs": [
        {
          "output_type": "stream",
          "name": "stdout",
          "text": [
            "Enter a number: 6\n",
            "6 is even\n"
          ]
        }
      ]
    },
    {
      "cell_type": "markdown",
      "source": [
        "Write a program that performs basic arithmetic operations (addition, subtraction, multiplication, division) based on user input.\n"
      ],
      "metadata": {
        "id": "I3QPpBsnIfPN"
      }
    },
    {
      "cell_type": "code",
      "source": [
        "first_number = float(input(\"Enter first number: \"))\n",
        "second_number = float(input(\"Enter second number: \"))\n",
        "operation = input(\"Enter operation (+, -, *, /): \")\n",
        "if operation == '+':\n",
        "    result = first_number + second_number\n",
        "elif operation == '-':\n",
        "    result = first_number - second_number\n",
        "elif operation == '*':\n",
        "    result = first_number * second_number\n",
        "elif operation == '/':\n",
        "    if second_number != 0:\n",
        "        result = first_number / second_number\n",
        "    else:\n",
        "        result = \"Error! Division by zero.\"\n",
        "else:\n",
        "    result = \"Error! Invalid operation.\"\n",
        "\n",
        "print(f\"The result is: {result}\")\n"
      ],
      "metadata": {
        "colab": {
          "base_uri": "https://localhost:8080/"
        },
        "id": "UdXu6RMiIjxZ",
        "outputId": "4e7e7713-d882-4f21-f50b-d869e5c2a3da"
      },
      "execution_count": 18,
      "outputs": [
        {
          "output_type": "stream",
          "name": "stdout",
          "text": [
            "Enter first number: 8\n",
            "Enter second number: 8\n",
            "Enter operation (+, -, *, /): +\n",
            "The result is: 16.0\n"
          ]
        }
      ]
    },
    {
      "cell_type": "markdown",
      "source": [
        "Write a program to find the largest of three numbers.\n",
        "\n"
      ],
      "metadata": {
        "id": "v7E77Q3vJSvD"
      }
    },
    {
      "cell_type": "code",
      "source": [
        "first_number = float(input(\"Enter first number: \"))\n",
        "second_number = float(input(\"Enter second number: \"))\n",
        "third_number = float(input(\"Enter third number: \"))\n",
        "if first_number >= second_number and first_number >= third_number:\n",
        "    largest = first_number\n",
        "elif second_number >= first_number and second_number >= third_number:\n",
        "    largest = second_number\n",
        "else:\n",
        "    largest = third_number\n",
        "print(f\"The largest number is: {largest}\")\n"
      ],
      "metadata": {
        "colab": {
          "base_uri": "https://localhost:8080/"
        },
        "id": "-vWUp_MEJXaQ",
        "outputId": "86d2133a-eacb-4b33-9452-7972a8c2458f"
      },
      "execution_count": 19,
      "outputs": [
        {
          "output_type": "stream",
          "name": "stdout",
          "text": [
            "Enter first number: 2\n",
            "Enter second number: 4\n",
            "Enter third number: 6\n",
            "The largest number is: 6.0\n"
          ]
        }
      ]
    },
    {
      "cell_type": "markdown",
      "source": [
        "Write a program that takes a string from the user and prints it in reverse.\n"
      ],
      "metadata": {
        "id": "foJxNsX_KDuT"
      }
    },
    {
      "cell_type": "code",
      "source": [
        "user_string = input(\"Enter a string: \")\n",
        "reversed_string = user_string[::-1]\n",
        "print(f\"The reversed string is: {reversed_string}\")\n"
      ],
      "metadata": {
        "colab": {
          "base_uri": "https://localhost:8080/"
        },
        "id": "5BsichucKQdW",
        "outputId": "c5b279cc-f144-46ee-a317-f54bc094ea84"
      },
      "execution_count": 26,
      "outputs": [
        {
          "output_type": "stream",
          "name": "stdout",
          "text": [
            "Enter a string: Hello\n",
            "The reversed string is: olleH\n"
          ]
        }
      ]
    },
    {
      "cell_type": "markdown",
      "source": [
        "Write a program that counts the number of vowels in a given string."
      ],
      "metadata": {
        "id": "ApkRgVvALHAC"
      }
    },
    {
      "cell_type": "code",
      "source": [
        "user_string = input(\"Enter a string: \")\n",
        "vowels = \"aeiouAEIOU\"\n",
        "vowel_count = 0\n",
        "for char in user_string:\n",
        "    if char in vowels:\n",
        "        vowel_count += 1\n",
        "print(f\"The number of vowels is: {vowel_count}\")\n"
      ],
      "metadata": {
        "colab": {
          "base_uri": "https://localhost:8080/"
        },
        "id": "Zw4N_oReLV_0",
        "outputId": "3f925b69-f4c0-4aa4-83e9-55d0df4b5eaa"
      },
      "execution_count": 27,
      "outputs": [
        {
          "output_type": "stream",
          "name": "stdout",
          "text": [
            "Enter a string: Yasir Bhatti\n",
            "The number of vowels is: 4\n"
          ]
        }
      ]
    },
    {
      "cell_type": "markdown",
      "source": [
        "Write a program to print the Fibonacci sequence up to n terms."
      ],
      "metadata": {
        "id": "7c3AjmqWLvz2"
      }
    },
    {
      "cell_type": "code",
      "source": [
        "n_terms = int(input(\"How many terms? \"))\n",
        "n1 = 0\n",
        "n2 = 1\n",
        "count = 0\n",
        "if n_terms <= 0:\n",
        "    print(\"Please enter a positive integer\")\n",
        "elif n_terms == 1:\n",
        "    print(\"Fibonacci sequence:\")\n",
        "    print(n1)\n",
        "else:\n",
        "    print(\"Fibonacci sequence:\")\n",
        "    while count < n_terms:\n",
        "        print(n1, end=' ')\n",
        "        nth = n1 + n2\n",
        "        n1 = n2\n",
        "        n2 = nth\n",
        "        count += 1\n"
      ],
      "metadata": {
        "colab": {
          "base_uri": "https://localhost:8080/"
        },
        "id": "yM9EoH_GLzd-",
        "outputId": "2e3fbde3-8a64-4153-f97a-d1e6d00ce9a7"
      },
      "execution_count": 29,
      "outputs": [
        {
          "output_type": "stream",
          "name": "stdout",
          "text": [
            "How many terms? 5\n",
            "Fibonacci sequence:\n",
            "0 1 1 2 3 "
          ]
        }
      ]
    },
    {
      "cell_type": "markdown",
      "source": [
        "Write a program to check if a given string is a palindrome."
      ],
      "metadata": {
        "id": "eocIG7fCMrzS"
      }
    },
    {
      "cell_type": "code",
      "source": [
        "user_string = input(\"Enter a string: \")\n",
        "reversed_string = user_string[::-1]\n",
        "if user_string == reversed_string:\n",
        "    print(f\"{user_string} is a palindrome\")\n",
        "else:\n",
        "    print(f\"{user_string} is not a palindrome\")\n"
      ],
      "metadata": {
        "colab": {
          "base_uri": "https://localhost:8080/"
        },
        "id": "QS4vgX90My2M",
        "outputId": "f28f0a93-844c-4c66-c95e-1278e27d0875"
      },
      "execution_count": 32,
      "outputs": [
        {
          "output_type": "stream",
          "name": "stdout",
          "text": [
            "Enter a string: cat\n",
            "cat is not a palindrome\n"
          ]
        }
      ]
    }
  ]
}