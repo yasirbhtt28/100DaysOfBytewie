{
  "nbformat": 4,
  "nbformat_minor": 0,
  "metadata": {
    "colab": {
      "provenance": []
    },
    "kernelspec": {
      "name": "python3",
      "display_name": "Python 3"
    },
    "language_info": {
      "name": "python"
    }
  },
  "cells": [
    {
      "cell_type": "markdown",
      "source": [
        "Recursive Factorial"
      ],
      "metadata": {
        "id": "YTJo8AdY1YPe"
      }
    },
    {
      "cell_type": "code",
      "execution_count": 5,
      "metadata": {
        "colab": {
          "base_uri": "https://localhost:8080/"
        },
        "id": "jUkCCd8O1Xav",
        "outputId": "26148696-ec66-44b2-ca02-1a31a84d01fc"
      },
      "outputs": [
        {
          "output_type": "stream",
          "name": "stdout",
          "text": [
            "Enter Number for Factorial 5\n",
            "The factorial of 5 is 120.\n"
          ]
        }
      ],
      "source": [
        "def factorial(n):\n",
        "    if n == 0:\n",
        "        return 1\n",
        "    else:\n",
        "        return n * factorial(n - 1)\n",
        "number = int(input(\"Enter Number for Factorial \"))\n",
        "result = factorial(number)\n",
        "print(f\"The factorial of {number} is {result}.\")\n"
      ]
    },
    {
      "cell_type": "markdown",
      "source": [
        "Palindrome Linked List"
      ],
      "metadata": {
        "id": "eUbzXrp12pOt"
      }
    },
    {
      "cell_type": "code",
      "source": [
        "class Node:\n",
        "  def __init__(self, data):\n",
        "    self.data = data\n",
        "    self.next = None\n",
        "\n",
        "def create_list(data_list):\n",
        "  head = None\n",
        "  for data in data_list:\n",
        "    new_node = Node(data)\n",
        "    if head is None:\n",
        "      head = new_node\n",
        "    else:\n",
        "      curr = head\n",
        "      while curr.next:\n",
        "        curr = curr.next\n",
        "      curr.next = new_node\n",
        "  return head\n",
        "\n",
        "def is_palindrome(head):\n",
        "  slow = fast = head\n",
        "  while fast and fast.next:\n",
        "    slow = slow.next\n",
        "    fast = fast.next.next\n",
        "  prev = None\n",
        "  while slow:\n",
        "    curr = slow\n",
        "    slow = slow.next\n",
        "    curr.next = prev\n",
        "    prev = curr\n",
        "  left, right = head, prev\n",
        "  while left and right:\n",
        "    if left.data != right.data:\n",
        "      return False\n",
        "    left = left.next\n",
        "    right = right.next\n",
        "  return True\n",
        "data_str = input(\"Enter elements for the linked list (separated by spaces): \")\n",
        "data_list = data_str.split()\n",
        "int_list = [int(x) for x in data_list]\n",
        "head = create_list(int_list)\n",
        "if is_palindrome(head):\n",
        "  print(\"The linked list is a palindrome.\")\n",
        "else:\n",
        "  print(\"The linked list is not a palindrome.\")\n"
      ],
      "metadata": {
        "colab": {
          "base_uri": "https://localhost:8080/"
        },
        "id": "nS10I5V74pb3",
        "outputId": "1fdeb044-98e5-410e-b5bb-be6ea38692cf"
      },
      "execution_count": 9,
      "outputs": [
        {
          "output_type": "stream",
          "name": "stdout",
          "text": [
            "Enter elements for the linked list (separated by spaces): 1 2 3 1 2 3\n",
            "The linked list is not a palindrome.\n"
          ]
        }
      ]
    },
    {
      "cell_type": "markdown",
      "source": [
        "Merge Sorted Arrays"
      ],
      "metadata": {
        "id": "DvyY5yhC5Vw4"
      }
    },
    {
      "cell_type": "code",
      "source": [
        "def merge_sorted_arrays(arr1, arr2):\n",
        "    merged_array = []\n",
        "    i, j = 0, 0\n",
        "    while i < len(arr1) and j < len(arr2):\n",
        "        if arr1[i] < arr2[j]:\n",
        "            merged_array.append(arr1[i])\n",
        "            i += 1\n",
        "        else:\n",
        "            merged_array.append(arr2[j])\n",
        "            j += 1\n",
        "    while i < len(arr1):\n",
        "        merged_array.append(arr1[i])\n",
        "        i += 1\n",
        "    while j < len(arr2):\n",
        "        merged_array.append(arr2[j])\n",
        "        j += 1\n",
        "    return merged_array\n",
        "def get_sorted_array(prompt):\n",
        "    return list(map(int, input(prompt).strip().split()))\n",
        "arr1 = get_sorted_array(\"Enter the first sorted array (space-separated): \")\n",
        "arr2 = get_sorted_array(\"Enter the second sorted array (space-separated): \")\n",
        "result = merge_sorted_arrays(arr1, arr2)\n",
        "print(\"Merged sorted array:\", result)\n"
      ],
      "metadata": {
        "colab": {
          "base_uri": "https://localhost:8080/"
        },
        "id": "oTfZ7KBI5WiN",
        "outputId": "52f4991e-b707-4a9c-a616-d9c0427ab1a7"
      },
      "execution_count": 15,
      "outputs": [
        {
          "output_type": "stream",
          "name": "stdout",
          "text": [
            "Enter the first sorted array (space-separated): 1 3 5\n",
            "Enter the second sorted array (space-separated): 2 4 6\n",
            "Merged sorted array: [1, 2, 3, 4, 5, 6]\n"
          ]
        }
      ]
    },
    {
      "cell_type": "markdown",
      "source": [
        "Binary Search Tree"
      ],
      "metadata": {
        "id": "X9UfOgQk7kgd"
      }
    },
    {
      "cell_type": "code",
      "source": [
        "class TreeNode:\n",
        "    def __init__(self, value):\n",
        "        self.value = value\n",
        "        self.left = None\n",
        "        self.right = None\n",
        "class BST:\n",
        "    def __init__(self):\n",
        "        self.root = None\n",
        "    def insert(self, value):\n",
        "        if not self.root:\n",
        "            self.root = TreeNode(value)\n",
        "        else:\n",
        "            self._insert(self.root, value)\n",
        "    def _insert(self, node, value):\n",
        "        if value < node.value:\n",
        "            if node.left is None:\n",
        "                node.left = TreeNode(value)\n",
        "            else:\n",
        "                self._insert(node.left, value)\n",
        "        else:\n",
        "            if node.right is None:\n",
        "                node.right = TreeNode(value)\n",
        "            else:\n",
        "                self._insert(node.right, value)\n",
        "    def search(self, value):\n",
        "        return self._search(self.root, value)\n",
        "    def _search(self, node, value):\n",
        "        if node is None or node.value == value:\n",
        "            return node\n",
        "        if value < node.value:\n",
        "            return self._search(node.left, value)\n",
        "        return self._search(node.right, value)\n",
        "    def delete(self, value):\n",
        "        self.root = self._delete(self.root, value)\n",
        "    def _delete(self, node, value):\n",
        "        if node is None:\n",
        "            return node\n",
        "        if value < node.value:\n",
        "            node.left = self._delete(node.left, value)\n",
        "        elif value > node.value:\n",
        "            node.right = self._delete(node.right, value)\n",
        "        else:\n",
        "            # Node with only one child or no child\n",
        "            if node.left is None:\n",
        "                return node.right\n",
        "            elif node.right is None:\n",
        "                return node.left\n",
        "            # Node with two children: Get the inorder successor (smallest in the right subtree)\n",
        "            min_larger_node = self._min_value_node(node.right)\n",
        "            node.value = min_larger_node.value\n",
        "            node.right = self._delete(node.right, min_larger_node.value)\n",
        "        return node\n",
        "    def _min_value_node(self, node):\n",
        "        current = node\n",
        "        while current.left is not None:\n",
        "            current = current.left\n",
        "        return current\n",
        "    def inorder_traversal(self):\n",
        "        return self._inorder_traversal(self.root, [])\n",
        "    def _inorder_traversal(self, node, result):\n",
        "        if node:\n",
        "            self._inorder_traversal(node.left, result)\n",
        "            result.append(node.value)\n",
        "            self._inorder_traversal(node.right, result)\n",
        "        return result\n",
        "# Example usage\n",
        "bst = BST()\n",
        "bst.insert(50)\n",
        "bst.insert(30)\n",
        "bst.insert(70)\n",
        "bst.insert(20)\n",
        "bst.insert(40)\n",
        "bst.insert(60)\n",
        "bst.insert(80)\n",
        "print(\"Inorder traversal after insertion:\", bst.inorder_traversal())\n",
        "# Searching for a node\n",
        "search_value = 40\n",
        "found_node = bst.search(search_value)\n",
        "print(f\"Node {search_value} {'found' if found_node else 'not found'} in the BST.\")\n",
        "# Deleting a node\n",
        "delete_value = 70\n",
        "bst.delete(delete_value)\n",
        "print(f\"Inorder traversal after deleting {delete_value}:\", bst.inorder_traversal())\n",
        "# Deleting a node with one child\n",
        "delete_value = 30\n",
        "bst.delete(delete_value)\n",
        "print(f\"Inorder traversal after deleting {delete_value}:\", bst.inorder_traversal())\n",
        "# Deleting a node with no children\n",
        "delete_value = 20\n",
        "bst.delete(delete_value)\n",
        "print(f\"Inorder traversal after deleting {delete_value}:\", bst.inorder_traversal())\n"
      ],
      "metadata": {
        "colab": {
          "base_uri": "https://localhost:8080/"
        },
        "id": "B8h6Xjop7lWu",
        "outputId": "90a32fad-1c3a-47d5-cefd-56d637ad5133"
      },
      "execution_count": 17,
      "outputs": [
        {
          "output_type": "stream",
          "name": "stdout",
          "text": [
            "Inorder traversal after insertion: [20, 30, 40, 50, 60, 70, 80]\n",
            "Node 40 found in the BST.\n",
            "Inorder traversal after deleting 70: [20, 30, 40, 50, 60, 80]\n",
            "Inorder traversal after deleting 30: [20, 40, 50, 60, 80]\n",
            "Inorder traversal after deleting 20: [40, 50, 60, 80]\n"
          ]
        }
      ]
    },
    {
      "cell_type": "markdown",
      "source": [
        "Longest Palindromic Substring"
      ],
      "metadata": {
        "id": "aeTOwjmU9Fwf"
      }
    },
    {
      "cell_type": "code",
      "source": [
        "def longest_palindromic_substring(s):\n",
        "    if not s:\n",
        "        return \"\"\n",
        "    def expand_around_center(s, left, right):\n",
        "        while left >= 0 and right < len(s) and s[left] == s[right]:\n",
        "            left -= 1\n",
        "            right += 1\n",
        "        return s[left + 1:right]\n",
        "    longest = \"\"\n",
        "    for i in range(len(s)):\n",
        "        # Odd length palindromes\n",
        "        odd_palindrome = expand_around_center(s, i, i)\n",
        "        if len(odd_palindrome) > len(longest):\n",
        "            longest = odd_palindrome\n",
        "        # Even length palindromes\n",
        "        even_palindrome = expand_around_center(s, i, i + 1)\n",
        "        if len(even_palindrome) > len(longest):\n",
        "            longest = even_palindrome\n",
        "    return longest\n",
        "input_string1 = \"baabaad\"\n",
        "input_string2 = \"cbbd\"\n",
        "result1 = longest_palindromic_substring(input_string1)\n",
        "result2 = longest_palindromic_substring(input_string2)\n",
        "print(f\"Longest palindromic substring in '{input_string1}' is '{result1}'\")\n",
        "print(f\"Longest palindromic substring in '{input_string2}' is '{result2}'\")\n"
      ],
      "metadata": {
        "colab": {
          "base_uri": "https://localhost:8080/"
        },
        "id": "F0Uk7_139JdQ",
        "outputId": "ebf8ab56-24fb-41d6-fad7-816c9ae0d77b"
      },
      "execution_count": 21,
      "outputs": [
        {
          "output_type": "stream",
          "name": "stdout",
          "text": [
            "Longest palindromic substring in 'baabaad' is 'aabaa'\n",
            "Longest palindromic substring in 'cbbd' is 'bb'\n"
          ]
        }
      ]
    },
    {
      "cell_type": "markdown",
      "source": [
        "Merge Intervals\n"
      ],
      "metadata": {
        "id": "KDFcjYDy99Ol"
      }
    },
    {
      "cell_type": "code",
      "source": [
        "def merge_intervals(intervals):\n",
        "    if not intervals:\n",
        "        return []\n",
        "    sorted_intervals = sorted(intervals, key=lambda x: x[0])\n",
        "    merged_intervals = []\n",
        "    current_interval = sorted_intervals[0]\n",
        "    for interval in sorted_intervals[1:]:\n",
        "        if interval[0] <= current_interval[1]:\n",
        "            current_interval = (current_interval[0], max(current_interval[1], interval[1]))\n",
        "        else:\n",
        "            merged_intervals.append(current_interval)\n",
        "            current_interval = interval\n",
        "    merged_intervals.append(current_interval)\n",
        "    return merged_intervals\n",
        "intervals = [(1, 3), (2, 6), (8, 10), (15, 18)]\n",
        "merged = merge_intervals(intervals)\n",
        "print(merged)"
      ],
      "metadata": {
        "colab": {
          "base_uri": "https://localhost:8080/"
        },
        "id": "T7fdpenC-K-G",
        "outputId": "c37b10f0-5ed1-4d2c-fe27-b6d22a938629"
      },
      "execution_count": 23,
      "outputs": [
        {
          "output_type": "stream",
          "name": "stdout",
          "text": [
            "[(1, 6), (8, 10), (15, 18)]\n"
          ]
        }
      ]
    },
    {
      "cell_type": "markdown",
      "source": [
        "Maximum Subarray"
      ],
      "metadata": {
        "id": "pgSkcwIA-m5A"
      }
    },
    {
      "cell_type": "code",
      "source": [
        "def max_subarray_sum(nums):\n",
        "    if not nums:\n",
        "        return 0\n",
        "    max_sum = float('-inf')\n",
        "    current_sum = 0\n",
        "    for num in nums:\n",
        "        current_sum = max(num, current_sum + num)\n",
        "        max_sum = max(max_sum, current_sum)\n",
        "    return max_sum\n",
        "nums = [-2, 1, -3, 4, -1, 2, 1, -5, 4]\n",
        "result = max_subarray_sum(nums)\n",
        "print(result)"
      ],
      "metadata": {
        "colab": {
          "base_uri": "https://localhost:8080/"
        },
        "id": "Mb3w73hg-qLa",
        "outputId": "f3d88155-e5e9-4c9d-910f-410d6a106968"
      },
      "execution_count": 25,
      "outputs": [
        {
          "output_type": "stream",
          "name": "stdout",
          "text": [
            "6\n"
          ]
        }
      ]
    },
    {
      "cell_type": "markdown",
      "source": [
        "Reverse Linked List"
      ],
      "metadata": {
        "id": "1psPKhtT_T4G"
      }
    },
    {
      "cell_type": "code",
      "source": [
        "class ListNode:\n",
        "    def __init__(self, value=0, next=None):\n",
        "        self.value = value\n",
        "        self.next = next\n",
        "def reverse_linked_list(head):\n",
        "    prev = None\n",
        "    current = head\n",
        "    while current:\n",
        "        next_node = current.next\n",
        "        current.next = prev\n",
        "        prev = current\n",
        "        current = next_node\n",
        "    return prev\n",
        "def print_linked_list(head):\n",
        "    current = head\n",
        "    while current:\n",
        "        print(current.value, end=\" -> \")\n",
        "        current = current.next\n",
        "    print(\"None\")\n",
        "head = ListNode(1)\n",
        "head.next = ListNode(2)\n",
        "head.next.next = ListNode(3)\n",
        "head.next.next.next = ListNode(4)\n",
        "head.next.next.next.next = ListNode(5)\n",
        "print(\"Original linked list:\")\n",
        "print_linked_list(head)\n",
        "reversed_head = reverse_linked_list(head)\n",
        "print(\"Reversed linked list:\")\n",
        "print_linked_list(reversed_head)\n"
      ],
      "metadata": {
        "colab": {
          "base_uri": "https://localhost:8080/"
        },
        "id": "6TgRz7Ym_ZJx",
        "outputId": "dcf69743-d272-426a-e9b4-4113bce254fd"
      },
      "execution_count": 26,
      "outputs": [
        {
          "output_type": "stream",
          "name": "stdout",
          "text": [
            "Original linked list:\n",
            "1 -> 2 -> 3 -> 4 -> 5 -> None\n",
            "Reversed linked list:\n",
            "5 -> 4 -> 3 -> 2 -> 1 -> None\n"
          ]
        }
      ]
    },
    {
      "cell_type": "markdown",
      "source": [
        "Minimum Edit Distance"
      ],
      "metadata": {
        "id": "9BOLh6FhB5jO"
      }
    },
    {
      "cell_type": "code",
      "source": [
        "def min_edit_distance(word1, word2):\n",
        "    m, n = len(word1), len(word2)\n",
        "    dp = [[0] * (n + 1) for _ in range(m + 1)]\n",
        "    for i in range(m + 1):\n",
        "        dp[i][0] = i\n",
        "    for j in range(n + 1):\n",
        "        dp[0][j] = j\n",
        "    for i in range(1, m + 1):\n",
        "        for j in range(1, n + 1):\n",
        "            if word1[i - 1] == word2[j - 1]:\n",
        "                dp[i][j] = dp[i - 1][j - 1]\n",
        "            else:\n",
        "                dp[i][j] = min(dp[i - 1][j], dp[i][j - 1], dp[i - 1][j - 1]) + 1\n",
        "    return dp[m][n]\n",
        "word1 = \"kitten\"\n",
        "word2 = \"sitting\"\n",
        "result = min_edit_distance(word1, word2)\n",
        "print(result)\n"
      ],
      "metadata": {
        "colab": {
          "base_uri": "https://localhost:8080/"
        },
        "id": "Fy5ejgo-B6mR",
        "outputId": "c87f828b-3ef4-4b81-c6d9-758bb2b7e257"
      },
      "execution_count": 28,
      "outputs": [
        {
          "output_type": "stream",
          "name": "stdout",
          "text": [
            "3\n"
          ]
        }
      ]
    },
    {
      "cell_type": "markdown",
      "source": [
        "Boggle Game"
      ],
      "metadata": {
        "id": "2YLAY5T0CYkk"
      }
    },
    {
      "cell_type": "code",
      "source": [
        "class BoggleSolver:\n",
        "    def __init__(self, board, words):\n",
        "        self.board = board\n",
        "        self.words = set(words)\n",
        "        self.rows = len(board)\n",
        "        self.cols = len(board[0])\n",
        "        self.visited = [[False] * self.cols for _ in range(self.rows)]\n",
        "        self.result = set()\n",
        "    def is_valid_position(self, row, col):\n",
        "        return 0 <= row < self.rows and 0 <= col < self.cols and not self.visited[row][col]\n",
        "    def dfs(self, row, col, prefix):\n",
        "        if prefix in self.words:\n",
        "            self.result.add(prefix)\n",
        "        if not self.is_valid_position(row, col):\n",
        "            return\n",
        "        self.visited[row][col] = True\n",
        "        for dr in [-1, 0, 1]:\n",
        "            for dc in [-1, 0, 1]:\n",
        "                if dr == 0 and dc == 0:\n",
        "                    continue\n",
        "                new_row, new_col = row + dr, col + dc\n",
        "                if self.is_valid_position(new_row, new_col):\n",
        "                    new_prefix = prefix + self.board[new_row][new_col]\n",
        "                    if any(word.startswith(new_prefix) for word in self.words):\n",
        "                        self.dfs(new_row, new_col, new_prefix)\n",
        "        self.visited[row][col] = False\n",
        "    def solve(self):\n",
        "        for r in range(self.rows):\n",
        "            for c in range(self.cols):\n",
        "                self.dfs(r, c, self.board[r][c])\n",
        "        return self.result\n",
        "board = [\n",
        "    ['a', 'b', 'c', 'd'],\n",
        "    ['e', 'f', 'g', 'h'],\n",
        "    ['i', 'j', 'k', 'l'],\n",
        "    ['m', 'n', 'o', 'p']\n",
        "]\n",
        "words = ['ab', 'ac', 'ad', 'ae', 'bc', 'ce', 'dg', 'mn', 'no', 'fh']\n",
        "solver = BoggleSolver(board, words)\n",
        "found_words = solver.solve()\n",
        "print(\"Words found in the Boggle board:\")\n",
        "for word in found_words:\n",
        "    print(word)"
      ],
      "metadata": {
        "colab": {
          "base_uri": "https://localhost:8080/"
        },
        "id": "F2bwKIZlCbsx",
        "outputId": "bec6968a-9a48-4596-df23-e9214c558d00"
      },
      "execution_count": 30,
      "outputs": [
        {
          "output_type": "stream",
          "name": "stdout",
          "text": [
            "Words found in the Boggle board:\n",
            "no\n",
            "ae\n",
            "bc\n",
            "mn\n",
            "ab\n",
            "dg\n"
          ]
        }
      ]
    }
  ]
}