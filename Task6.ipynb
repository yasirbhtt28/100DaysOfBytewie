{
  "nbformat": 4,
  "nbformat_minor": 0,
  "metadata": {
    "colab": {
      "provenance": []
    },
    "kernelspec": {
      "name": "python3",
      "display_name": "Python 3"
    },
    "language_info": {
      "name": "python"
    }
  },
  "cells": [
    {
      "cell_type": "markdown",
      "source": [
        "Load a simple dataset (e.g., the Iris dataset from Scikit-Learn) and print the first 5 rows.\n"
      ],
      "metadata": {
        "id": "jd9KjfAClI0I"
      }
    },
    {
      "cell_type": "code",
      "execution_count": 4,
      "metadata": {
        "colab": {
          "base_uri": "https://localhost:8080/"
        },
        "id": "skZ795qYkg5G",
        "outputId": "adf3f79e-57a4-4452-fdba-d526ceaa53ff"
      },
      "outputs": [
        {
          "output_type": "stream",
          "name": "stdout",
          "text": [
            "   sepal length (cm)  sepal width (cm)  petal length (cm)  petal width (cm)  \\\n",
            "0                5.1               3.5                1.4               0.2   \n",
            "1                4.9               3.0                1.4               0.2   \n",
            "2                4.7               3.2                1.3               0.2   \n",
            "3                4.6               3.1                1.5               0.2   \n",
            "4                5.0               3.6                1.4               0.2   \n",
            "\n",
            "   target  \n",
            "0       0  \n",
            "1       0  \n",
            "2       0  \n",
            "3       0  \n",
            "4       0  \n"
          ]
        }
      ],
      "source": [
        "from sklearn.datasets import load_iris\n",
        "import pandas as pd\n",
        "iris = load_iris()\n",
        "irisdf = pd.DataFrame(data=iris.data, columns=iris.feature_names)\n",
        "irisdf['target'] = iris.target\n",
        "print(irisdf.head(5))"
      ]
    },
    {
      "cell_type": "markdown",
      "source": [
        "Implement a function that takes a dataset(Iris) and returns the number of features and samples."
      ],
      "metadata": {
        "id": "NSbFKKa2lOam"
      }
    },
    {
      "cell_type": "code",
      "source": [
        "def dataset_info(dataset):\n",
        "    num_features = dataset.shape[1]\n",
        "    num_samples = dataset.shape[0]\n",
        "    return num_features, num_samples\n",
        "features, samples = dataset_info(irisdf)\n",
        "print(f\"Number of features: {features}\")\n",
        "print(f\"Number of samples: {samples}\")\n"
      ],
      "metadata": {
        "colab": {
          "base_uri": "https://localhost:8080/"
        },
        "id": "W8uS0iSglR2F",
        "outputId": "aa697d21-a314-4133-ef23-3e57b22b18fa"
      },
      "execution_count": 5,
      "outputs": [
        {
          "output_type": "stream",
          "name": "stdout",
          "text": [
            "Number of features: 5\n",
            "Number of samples: 150\n"
          ]
        }
      ]
    },
    {
      "cell_type": "markdown",
      "source": [
        "Split a dataset into training and testing sets with an 80/20 percent split."
      ],
      "metadata": {
        "id": "3l_tyLZ9mvTo"
      }
    },
    {
      "cell_type": "code",
      "source": [
        "from sklearn.model_selection import train_test_split\n",
        "X = irisdf.drop(columns='target')\n",
        "y = irisdf['target']\n",
        "X_train, X_test, y_train, y_test = train_test_split(X, y, train_size=0.8, random_state=42)\n",
        "print(f\"Training set size: {X_train.shape[0]} samples\")\n",
        "print(f\"Testing set size: {X_test.shape[0]} samples\")\n"
      ],
      "metadata": {
        "colab": {
          "base_uri": "https://localhost:8080/"
        },
        "id": "oX9ABCJXmvps",
        "outputId": "7c948c8c-9752-4c10-ef75-cc14c6707759"
      },
      "execution_count": 7,
      "outputs": [
        {
          "output_type": "stream",
          "name": "stdout",
          "text": [
            "Training set size: 120 samples\n",
            "Testing set size: 30 samples\n"
          ]
        }
      ]
    },
    {
      "cell_type": "markdown",
      "source": [
        "Basic statistics of a dataset(Iris), such as mean, median, and standard deviation for each feature."
      ],
      "metadata": {
        "id": "tSpq4scpnZ4C"
      }
    },
    {
      "cell_type": "code",
      "source": [
        "mean = irisdf.mean()\n",
        "median = irisdf.median()\n",
        "std_dev = irisdf.std()\n",
        "stats_df = pd.DataFrame({\n",
        "    'Mean': mean,\n",
        "    'Median': median,\n",
        "    'Standard Deviation': std_dev\n",
        "})\n",
        "print(stats_df)"
      ],
      "metadata": {
        "colab": {
          "base_uri": "https://localhost:8080/"
        },
        "id": "XyqCBPqInxWl",
        "outputId": "e490caeb-cbff-42bd-b971-333ed70099af"
      },
      "execution_count": 8,
      "outputs": [
        {
          "output_type": "stream",
          "name": "stdout",
          "text": [
            "                       Mean  Median  Standard Deviation\n",
            "sepal length (cm)  5.843333    5.80            0.828066\n",
            "sepal width (cm)   3.057333    3.00            0.435866\n",
            "petal length (cm)  3.758000    4.35            1.765298\n",
            "petal width (cm)   1.199333    1.30            0.762238\n",
            "target             1.000000    1.00            0.819232\n"
          ]
        }
      ]
    },
    {
      "cell_type": "markdown",
      "source": [
        "Visualize the distribution of one of the features in the dataset using a histogram."
      ],
      "metadata": {
        "id": "5Akh76IOoaYV"
      }
    },
    {
      "cell_type": "code",
      "source": [
        "import matplotlib.pyplot as plt\n",
        "plt.figure(figsize=(8, 6))\n",
        "plt.hist(irisdf['sepal length (cm)'], bins=20, edgecolor='k', alpha=0.9)\n",
        "plt.title('Distribution of Sepal Length (cm)')\n",
        "plt.xlabel('Sepal Length (cm)')\n",
        "plt.ylabel('Frequency')\n",
        "plt.grid(False)\n",
        "plt.show()"
      ],
      "metadata": {
        "colab": {
          "base_uri": "https://localhost:8080/",
          "height": 579
        },
        "id": "VOeMAttnoc9i",
        "outputId": "91a0b8b4-07ff-4f45-b787-4df7ea896656"
      },
      "execution_count": 18,
      "outputs": [
        {
          "output_type": "display_data",
          "data": {
            "text/plain": [
              "<Figure size 800x600 with 1 Axes>"
            ],
            "image/png": "[encoded data removed]"
          },
          "metadata": {}
        }
      ]
    },
    {
      "cell_type": "markdown",
      "source": [
        "Write a Python script to create a list of 10 numbers and compute their mean."
      ],
      "metadata": {
        "id": "DMYf0rvspJl3"
      }
    },
    {
      "cell_type": "code",
      "source": [
        "import numpy as np\n",
        "numbers = [1, 2, 3, 4, 5, 6, 7, 8, 9, 10]\n",
        "mean_value = np.mean(numbers)\n",
        "print(f\"The mean of the list is: {mean_value}\")"
      ],
      "metadata": {
        "colab": {
          "base_uri": "https://localhost:8080/"
        },
        "id": "wpSvOFB6pNIL",
        "outputId": "86e00b47-dada-4e2d-9962-654d7474164f"
      },
      "execution_count": 20,
      "outputs": [
        {
          "output_type": "stream",
          "name": "stdout",
          "text": [
            "The mean of the list is: 5.5\n"
          ]
        }
      ]
    },
    {
      "cell_type": "markdown",
      "source": [
        "Create a function that takes a list of numbers and returns a dictionary with the count, mean, median, and standard deviation."
      ],
      "metadata": {
        "id": "TUNKekE_pvme"
      }
    },
    {
      "cell_type": "code",
      "source": [
        "def calstatistics(numbers):\n",
        "    stats = {\n",
        "        'count': len(numbers),\n",
        "        'mean': np.mean(numbers),\n",
        "        'median': np.median(numbers),\n",
        "        'std_dev': np.std(numbers)\n",
        "    }\n",
        "    return stats\n",
        "numbers = [1, 2, 3, 4, 5, 6, 7, 8, 9, 10]\n",
        "statistics = calstatistics(numbers)\n",
        "print(statistics)\n"
      ],
      "metadata": {
        "colab": {
          "base_uri": "https://localhost:8080/"
        },
        "id": "4nH6wUzTpzUZ",
        "outputId": "4ea07b5d-f838-4ab9-fc02-d940aadff0d9"
      },
      "execution_count": 21,
      "outputs": [
        {
          "output_type": "stream",
          "name": "stdout",
          "text": [
            "{'count': 10, 'mean': 5.5, 'median': 5.5, 'std_dev': 2.8722813232690143}\n"
          ]
        }
      ]
    },
    {
      "cell_type": "markdown",
      "source": [
        "Generate a 5x5 matrix of random numbers and print it."
      ],
      "metadata": {
        "id": "OdYoFKr9qWEd"
      }
    },
    {
      "cell_type": "code",
      "source": [
        "randmatrix = np.random.rand(5, 5)\n",
        "print(\"5x5 Matrix of Random Numbers:\")\n",
        "print(randmatrix)\n"
      ],
      "metadata": {
        "colab": {
          "base_uri": "https://localhost:8080/"
        },
        "id": "_k_HuVCdqan6",
        "outputId": "0dc1303e-da6b-4282-b5e3-9ea2008a3899"
      },
      "execution_count": 22,
      "outputs": [
        {
          "output_type": "stream",
          "name": "stdout",
          "text": [
            "5x5 Matrix of Random Numbers:\n",
            "[[0.57847197 0.82064142 0.83070282 0.93346165 0.59475303]\n",
            " [0.53750367 0.00328992 0.96321616 0.85074941 0.72503877]\n",
            " [0.38009672 0.29540425 0.51435267 0.24248642 0.74972064]\n",
            " [0.80749861 0.58759072 0.1989743  0.34660773 0.57698539]\n",
            " [0.01539864 0.48935105 0.29274913 0.21949085 0.49025691]]\n"
          ]
        }
      ]
    },
    {
      "cell_type": "markdown",
      "source": [
        " Load a CSV file (here I have loaded a csv file from my own PC) into a Pandas DataFrame and print summary statistics for each column.\n"
      ],
      "metadata": {
        "id": "n4XS33o1qzDN"
      }
    },
    {
      "cell_type": "code",
      "source": [
        "df = pd.read_csv('/content/Cordinates.csv')\n",
        "summary_stats = df.describe()\n",
        "print(summary_stats)"
      ],
      "metadata": {
        "colab": {
          "base_uri": "https://localhost:8080/"
        },
        "id": "e0p1gvuFrBDg",
        "outputId": "ccb6cea2-189a-488d-e26b-f86503b634fb"
      },
      "execution_count": 25,
      "outputs": [
        {
          "output_type": "stream",
          "name": "stdout",
          "text": [
            "            X(mm)      Y(mm)\n",
            "count   49.000000  49.000000\n",
            "mean   127.000000   5.184555\n",
            "std     91.654257   3.589570\n",
            "min      0.000000   0.000000\n",
            "25%     37.198300   1.717040\n",
            "50%    127.000000   5.053330\n",
            "75%    216.801700   8.763000\n",
            "max    254.000000  10.184130\n"
          ]
        }
      ]
    },
    {
      "cell_type": "markdown",
      "source": [
        " Implement a simple linear regression model using Scikit-Learn and print the model coefficients\n"
      ],
      "metadata": {
        "id": "592OaYjrtVIQ"
      }
    },
    {
      "cell_type": "code",
      "source": [
        "from sklearn.linear_model import LinearRegression\n",
        "df = pd.read_csv('/content/Cordinates.csv')\n",
        "X = df[['X(mm)']]\n",
        "y = df['Y(mm)']\n",
        "X_train, X_test, y_train, y_test = train_test_split(X, y, test_size=0.2, random_state=42)\n",
        "model = LinearRegression()\n",
        "model.fit(X_train, y_train)\n",
        "print(\"Model Coefficients:\", model.coef_)\n",
        "plt.scatter(X_train, y_train, color='blue', label='Training data')\n",
        "x_line = np.linspace(X_train.min(), X_train.max(), 100).reshape(-1, 1)\n",
        "y_line = model.predict(x_line)\n",
        "plt.plot(x_line, y_line, color='red', linewidth=3, label='Linear regression line')\n",
        "plt.xlabel('X(mm)')\n",
        "plt.ylabel('Y(mm)')\n",
        "plt.title('Linear Regression')\n",
        "plt.legend()"
      ],
      "metadata": {
        "colab": {
          "base_uri": "https://localhost:8080/",
          "height": 561
        },
        "id": "3ItEGpoKtVZf",
        "outputId": "e611181e-64c9-45f1-a0f2-facbca7d06f7"
      },
      "execution_count": 30,
      "outputs": [
        {
          "output_type": "stream",
          "name": "stdout",
          "text": [
            "Model Coefficients: [-0.0018647]\n"
          ]
        },
        {
          "output_type": "stream",
          "name": "stderr",
          "text": [
            "/usr/local/lib/python3.10/dist-packages/sklearn/base.py:439: UserWarning: X does not have valid feature names, but LinearRegression was fitted with feature names\n",
            "  warnings.warn(\n"
          ]
        },
        {
          "output_type": "execute_result",
          "data": {
            "text/plain": [
              "<matplotlib.legend.Legend at 0x7fd4b805e890>"
            ]
          },
          "metadata": {},
          "execution_count": 30
        },
        {
          "output_type": "display_data",
          "data": {
            "text/plain": [
              "<Figure size 640x480 with 1 Axes>"
            ],
            "image/png": "[encoded data removed]"
          },
          "metadata": {}
        }
      ]
    }
  ]
}